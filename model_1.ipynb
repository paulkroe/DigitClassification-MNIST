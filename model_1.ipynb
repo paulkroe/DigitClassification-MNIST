{
 "cells": [
  {
   "attachments": {},
   "cell_type": "markdown",
   "metadata": {},
   "source": [
    "Simple model using sigmoids and the mean square error. No regularization, no dropout\n",
    "acc 95% on validation data"
   ]
  },
  {
   "cell_type": "code",
   "execution_count": null,
   "metadata": {},
   "outputs": [],
   "source": [
    "import importlib\n",
    "import network0\n",
    "import data_loader\n",
    "import numpy as np\n",
    "import visualize_digits\n",
    "importlib.reload(network0)\n",
    "importlib.reload(data_loader)\n",
    "\n",
    "\n",
    "train_data, validation_data, test_data = data_loader.load_data()\n",
    "layers = np.array([784, 30, 10])\n",
    "model_0 = network0.network(layers=layers, activation_function=network0.ReLU, dactivation_function=network0.dReLU, seed_value=17)\n",
    "model_0.SGD([np.array(train_data[0]),np.array(train_data[1])] , eta=0.1, epochs=30, batch_size=10, loss_fn=network0.mean_square_error, dloss_fn=network0.dmean_square_error, seed_value=17, validation_data=validation_data)"
   ]
  }
 ],
 "metadata": {
  "kernelspec": {
   "display_name": "env",
   "language": "python",
   "name": "python3"
  },
  "language_info": {
   "codemirror_mode": {
    "name": "ipython",
    "version": 3
   },
   "file_extension": ".py",
   "mimetype": "text/x-python",
   "name": "python",
   "nbconvert_exporter": "python",
   "pygments_lexer": "ipython3",
   "version": "3.7.13"
  },
  "orig_nbformat": 4
 },
 "nbformat": 4,
 "nbformat_minor": 2
}
