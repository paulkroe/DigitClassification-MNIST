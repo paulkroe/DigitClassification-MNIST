{
 "cells": [
  {
   "attachments": {},
   "cell_type": "markdown",
   "metadata": {},
   "source": [
    "Simple model using sigmoids and the mean square error. No regularization, no dropout\n",
    "acc 95% on validation data"
   ]
  },
  {
   "cell_type": "code",
   "execution_count": 31,
   "metadata": {},
   "outputs": [
    {
     "name": "stdout",
     "output_type": "stream",
     "text": [
      "Epoch: 0 | absolute accuracy on validation data: 9104/10000 | accuracy on validation data in percent: 91.04\n",
      "Epoch: 1 | absolute accuracy on validation data: 9206/10000 | accuracy on validation data in percent: 92.06\n",
      "Epoch: 2 | absolute accuracy on validation data: 9277/10000 | accuracy on validation data in percent: 92.77\n",
      "Epoch: 3 | absolute accuracy on validation data: 9266/10000 | accuracy on validation data in percent: 92.66\n",
      "Epoch: 4 | absolute accuracy on validation data: 9268/10000 | accuracy on validation data in percent: 92.68\n",
      "Epoch: 5 | absolute accuracy on validation data: 9318/10000 | accuracy on validation data in percent: 93.18\n",
      "Epoch: 6 | absolute accuracy on validation data: 9281/10000 | accuracy on validation data in percent: 92.81\n",
      "Epoch: 7 | absolute accuracy on validation data: 9298/10000 | accuracy on validation data in percent: 92.98\n",
      "Epoch: 8 | absolute accuracy on validation data: 9289/10000 | accuracy on validation data in percent: 92.89\n",
      "Epoch: 9 | absolute accuracy on validation data: 9302/10000 | accuracy on validation data in percent: 93.02\n",
      "Epoch: 10 | absolute accuracy on validation data: 9282/10000 | accuracy on validation data in percent: 92.82\n",
      "Epoch: 11 | absolute accuracy on validation data: 9299/10000 | accuracy on validation data in percent: 92.99\n",
      "Epoch: 12 | absolute accuracy on validation data: 9294/10000 | accuracy on validation data in percent: 92.94\n",
      "Epoch: 13 | absolute accuracy on validation data: 9297/10000 | accuracy on validation data in percent: 92.97\n",
      "Epoch: 14 | absolute accuracy on validation data: 9291/10000 | accuracy on validation data in percent: 92.91\n",
      "Epoch: 15 | absolute accuracy on validation data: 9286/10000 | accuracy on validation data in percent: 92.86\n",
      "Epoch: 16 | absolute accuracy on validation data: 9280/10000 | accuracy on validation data in percent: 92.8\n",
      "Epoch: 17 | absolute accuracy on validation data: 9276/10000 | accuracy on validation data in percent: 92.76\n",
      "Epoch: 18 | absolute accuracy on validation data: 9274/10000 | accuracy on validation data in percent: 92.74\n",
      "Epoch: 19 | absolute accuracy on validation data: 9281/10000 | accuracy on validation data in percent: 92.81\n",
      "Epoch: 20 | absolute accuracy on validation data: 9278/10000 | accuracy on validation data in percent: 92.78\n",
      "Epoch: 21 | absolute accuracy on validation data: 9276/10000 | accuracy on validation data in percent: 92.76\n",
      "Epoch: 22 | absolute accuracy on validation data: 9279/10000 | accuracy on validation data in percent: 92.79\n",
      "Epoch: 23 | absolute accuracy on validation data: 9272/10000 | accuracy on validation data in percent: 92.72\n",
      "Epoch: 24 | absolute accuracy on validation data: 9269/10000 | accuracy on validation data in percent: 92.69\n",
      "Epoch: 25 | absolute accuracy on validation data: 9264/10000 | accuracy on validation data in percent: 92.64\n",
      "Epoch: 26 | absolute accuracy on validation data: 9271/10000 | accuracy on validation data in percent: 92.71\n",
      "Epoch: 27 | absolute accuracy on validation data: 9264/10000 | accuracy on validation data in percent: 92.64\n",
      "Epoch: 28 | absolute accuracy on validation data: 9269/10000 | accuracy on validation data in percent: 92.69\n",
      "Epoch: 29 | absolute accuracy on validation data: 9262/10000 | accuracy on validation data in percent: 92.62\n"
     ]
    }
   ],
   "source": [
    "import importlib\n",
    "import network0\n",
    "import data_loader\n",
    "import numpy as np\n",
    "import visualize_digits\n",
    "importlib.reload(network0)\n",
    "importlib.reload(data_loader)\n",
    "\n",
    "\n",
    "train_data, validation_data, test_data = data_loader.load_data()\n",
    "layers = np.array([784, 30, 10])\n",
    "model_0 = network0.network(layers=layers, activation_function=network0.sigmoid, dactivation_function=network0.dsigmoid, seed_value=17)\n",
    "model_0.SGD([np.array(train_data[0]),np.array(train_data[1])] , eta=3, epochs=30, batch_size=10, loss_fn=network0.mean_square_error, dloss_fn=network0.dmean_square_error, seed_value=17, validation_data=validation_data)"
   ]
  },
  {
   "cell_type": "code",
   "execution_count": 30,
   "metadata": {},
   "outputs": [
    {
     "name": "stdout",
     "output_type": "stream",
     "text": [
      "[1.43215325e-03 2.85071820e-06 7.40015160e-05 1.56749716e-02\n",
      " 4.17704707e-07 7.64963421e-01 4.17290524e-06 2.67315402e-04\n",
      " 1.04993560e-04 5.06137417e-04]\n"
     ]
    },
    {
     "data": {
      "text/plain": [
       "0.00554902936544793"
      ]
     },
     "execution_count": 30,
     "metadata": {},
     "output_type": "execute_result"
    }
   ],
   "source": [
    "x=model_0.forward(train_data[0][0])\n",
    "print(x)\n",
    "network0.mean_square_error(y_pred=x, y_true=train_data[1][0])"
   ]
  }
 ],
 "metadata": {
  "kernelspec": {
   "display_name": "env",
   "language": "python",
   "name": "python3"
  },
  "language_info": {
   "codemirror_mode": {
    "name": "ipython",
    "version": 3
   },
   "file_extension": ".py",
   "mimetype": "text/x-python",
   "name": "python",
   "nbconvert_exporter": "python",
   "pygments_lexer": "ipython3",
   "version": "3.7.13"
  },
  "orig_nbformat": 4
 },
 "nbformat": 4,
 "nbformat_minor": 2
}
