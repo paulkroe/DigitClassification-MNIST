{
 "cells": [
  {
   "attachments": {},
   "cell_type": "markdown",
   "metadata": {},
   "source": [
    "Simple model using ReLus and the mean square error. No regularization, no dropout"
   ]
  },
  {
   "cell_type": "code",
   "execution_count": 29,
   "metadata": {},
   "outputs": [],
   "source": [
    "import importlib\n",
    "import network0\n",
    "import data_loader\n",
    "import numpy as np\n",
    "importlib.reload(network0)\n",
    "importlib.reload(data_loader)\n",
    "\n",
    "\n",
    "train_data, validation_data, test_data = data_loader.load_data()\n",
    "layers = np.array([784, 50, 10, 10])\n",
    "model_0 = network0.network(layers=layers, seed_value=17)\n",
    "# model_0.SGD([np.array(train_data[0][:1000]),np.array(train_data[1][:1000])] , eta=0.01, epochs=100, batch_size=10, loss_fn=network0.mean_square_error, dloss_fn=network0.dmean_square_error, seed_value=17)"
   ]
  },
  {
   "cell_type": "code",
   "execution_count": 32,
   "metadata": {},
   "outputs": [
    {
     "name": "stdout",
     "output_type": "stream",
     "text": [
      "<class 'numpy.ndarray'>\n",
      "[0. 0. 0. 0. 0. 1. 0. 0. 0. 0.]\n"
     ]
    }
   ],
   "source": [
    "test = [np.array(train_data[0][:1000]),np.array(train_data[1][:1000])]\n",
    "len(test)\n",
    "len(test[0])\n",
    "print(type(test[1][0]))\n",
    "print(test[1][0])"
   ]
  }
 ],
 "metadata": {
  "kernelspec": {
   "display_name": "env",
   "language": "python",
   "name": "python3"
  },
  "language_info": {
   "codemirror_mode": {
    "name": "ipython",
    "version": 3
   },
   "file_extension": ".py",
   "mimetype": "text/x-python",
   "name": "python",
   "nbconvert_exporter": "python",
   "pygments_lexer": "ipython3",
   "version": "3.7.13"
  },
  "orig_nbformat": 4
 },
 "nbformat": 4,
 "nbformat_minor": 2
}
