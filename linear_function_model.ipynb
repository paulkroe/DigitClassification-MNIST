{
 "cells": [
  {
   "attachments": {},
   "cell_type": "markdown",
   "metadata": {},
   "source": [
    "consider y(x) = (8 x, 15 x)\n",
    "want to build a simple model with 1 hidden layer, to test if the model works correctly"
   ]
  },
  {
   "cell_type": "code",
   "execution_count": 38,
   "metadata": {},
   "outputs": [
    {
     "data": {
      "text/plain": [
       "([array([10.       , -1.2354236]),\n",
       "  array([ 8.7645764, 17.5291528, 26.2937292]),\n",
       "  array([122.7040696, 280.4664448])],\n",
       " [array([10.       , -1.2354236]),\n",
       "  array([ 8.7645764, 17.5291528, 26.2937292]),\n",
       "  array([122.7040696, 280.4664448])])"
      ]
     },
     "execution_count": 38,
     "metadata": {},
     "output_type": "execute_result"
    }
   ],
   "source": [
    "# test forward\n",
    "import debugger as deb\n",
    "import importlib\n",
    "import network0\n",
    "import numpy as np\n",
    "import random\n",
    "importlib.reload(network0)\n",
    "\n",
    "layers = np.array([2,3,2])\n",
    "weights = [np.array([[1,1],[2,2],[3,3]]), np.array([[1,2,3],[4,5,6]])]\n",
    "biases = [np.array([0,0,0]), np.array([0,0])]\n",
    "\n",
    "model_0 = network0.network(layers=layers, weights=weights, biases=biases)\n",
    "\n",
    "model_0.forward(np.array([10,-1.2354236]))\n"
   ]
  },
  {
   "cell_type": "code",
   "execution_count": 68,
   "metadata": {},
   "outputs": [],
   "source": [
    "def get_rand():\n",
    "    x = np.random.random()\n",
    "    y = np.random.random()\n",
    "    return [x,x]\n",
    "\n",
    "def create_data(len):\n",
    "    np.random.seed(42)\n",
    "    ret = []\n",
    "    ret.append(np.array([np.array(get_rand()) for i in range(len)]))\n",
    "    ret.append(np.array([np.array([8*sub[0], 15*sub[1]]) for sub in ret[0]]))\n",
    "    return ret"
   ]
  },
  {
   "cell_type": "code",
   "execution_count": 78,
   "metadata": {},
   "outputs": [
    {
     "name": "stdout",
     "output_type": "stream",
     "text": [
      "epoch: 0 | loss: 0.026847840528874945\n",
      "epoch: 1 | loss: 0.018243133167452213\n",
      "epoch: 2 | loss: 0.013163367495792942\n",
      "epoch: 3 | loss: 0.009903370515270899\n",
      "epoch: 4 | loss: 0.007679848746326534\n",
      "epoch: 5 | loss: 0.006092995771709719\n",
      "epoch: 6 | loss: 0.004920375128372224\n",
      "epoch: 7 | loss: 0.0040295194506747714\n",
      "epoch: 8 | loss: 0.0033371883088482578\n",
      "epoch: 9 | loss: 0.002788802311916625\n",
      "epoch: 10 | loss: 0.0023473417780790896\n",
      "epoch: 11 | loss: 0.0019870021208699016\n",
      "epoch: 12 | loss: 0.0016893858654799762\n",
      "epoch: 13 | loss: 0.0014411197166736872\n",
      "epoch: 14 | loss: 0.0012323104561597325\n",
      "epoch: 15 | loss: 0.0010555158077073263\n",
      "epoch: 16 | loss: 0.0009050434520670209\n",
      "epoch: 17 | loss: 0.0007764658795568241\n",
      "epoch: 18 | loss: 0.0006662808388355463\n",
      "epoch: 19 | loss: 0.000571671825779269\n",
      "epoch: 20 | loss: 0.0004903381340524243\n",
      "epoch: 21 | loss: 0.00042037358297867985\n",
      "epoch: 22 | loss: 0.00036017938302578266\n",
      "epoch: 23 | loss: 0.0003084009327206059\n",
      "epoch: 24 | loss: 0.00026388136987275855\n",
      "epoch: 25 | loss: 0.00022562684528348878\n",
      "epoch: 26 | loss: 0.0001927800128270987\n",
      "epoch: 27 | loss: 0.00016459931169193816\n",
      "epoch: 28 | loss: 0.00014044237768707712\n",
      "epoch: 29 | loss: 0.00011975245002492407\n",
      "epoch: 30 | loss: 0.0001020470036127497\n",
      "epoch: 31 | loss: 8.690808320265752e-05\n",
      "epoch: 32 | loss: 7.39739803797232e-05\n",
      "epoch: 33 | loss: 6.29320030722705e-05\n",
      "epoch: 34 | loss: 5.351215835919013e-05\n",
      "epoch: 35 | loss: 4.548161560101002e-05\n",
      "epoch: 36 | loss: 3.863984707006799e-05\n",
      "epoch: 37 | loss: 3.281436315516561e-05\n",
      "epoch: 38 | loss: 2.7856972708365483e-05\n",
      "epoch: 39 | loss: 2.3640508650793327e-05\n",
      "epoch: 40 | loss: 2.0055966105888174e-05\n",
      "epoch: 41 | loss: 1.701000602440755e-05\n",
      "epoch: 42 | loss: 1.4422782064242871e-05\n",
      "epoch: 43 | loss: 1.222605270817102e-05\n",
      "epoch: 44 | loss: 1.0361544418572648e-05\n",
      "epoch: 45 | loss: 8.779535129755512e-06\n",
      "epoch: 46 | loss: 7.43763061022451e-06\n",
      "epoch: 47 | loss: 6.299709208949432e-06\n",
      "epoch: 48 | loss: 5.33501324145875e-06\n",
      "epoch: 49 | loss: 4.517367779242788e-06\n",
      "epoch: 50 | loss: 3.82450988664211e-06\n",
      "epoch: 51 | loss: 3.2375134108378876e-06\n",
      "epoch: 52 | loss: 2.7402962832550353e-06\n",
      "epoch: 53 | loss: 2.319198946861375e-06\n",
      "epoch: 54 | loss: 1.962623996494466e-06\n",
      "epoch: 55 | loss: 1.6607284234456576e-06\n",
      "epoch: 56 | loss: 1.4051610048262869e-06\n",
      "epoch: 57 | loss: 1.1888383878418529e-06\n",
      "epoch: 58 | loss: 1.005754302672383e-06\n",
      "epoch: 59 | loss: 8.50817108538488e-07\n",
      "epoch: 60 | loss: 7.197115483191001e-07\n",
      "epoch: 61 | loss: 6.087811691997497e-07\n",
      "epoch: 62 | loss: 5.14928370836691e-07\n",
      "epoch: 63 | loss: 4.355294780722586e-07\n",
      "epoch: 64 | loss: 3.6836261074928724e-07\n",
      "epoch: 65 | loss: 3.1154644657939963e-07\n",
      "epoch: 66 | loss: 2.6348825089987313e-07\n",
      "epoch: 67 | loss: 2.2283978574190254e-07\n",
      "epoch: 68 | loss: 1.884599151070277e-07\n",
      "epoch: 69 | loss: 1.593828984494396e-07\n",
      "epoch: 70 | loss: 1.3479151409337465e-07\n",
      "epoch: 71 | loss: 1.1399428226990833e-07\n",
      "epoch: 72 | loss: 9.640616666263429e-08\n",
      "epoch: 73 | loss: 8.153222651340229e-08\n",
      "epoch: 74 | loss: 6.895377073278186e-08\n",
      "epoch: 75 | loss: 5.8316633076643774e-08\n",
      "epoch: 76 | loss: 4.9321244999489356e-08\n",
      "epoch: 77 | loss: 4.171423176458349e-08\n",
      "epoch: 78 | loss: 3.5281298997437715e-08\n",
      "epoch: 79 | loss: 2.9841212258259575e-08\n",
      "epoch: 80 | loss: 2.5240702236101757e-08\n",
      "epoch: 81 | loss: 2.1350153687633802e-08\n",
      "epoch: 82 | loss: 1.805995788761181e-08\n",
      "epoch: 83 | loss: 1.5277426726999017e-08\n",
      "epoch: 84 | loss: 1.2924182175123832e-08\n",
      "epoch: 85 | loss: 1.0933948031017397e-08\n",
      "epoch: 86 | loss: 9.250682087808957e-09\n",
      "epoch: 87 | loss: 7.826996322966522e-09\n",
      "epoch: 88 | loss: 6.6228207688928365e-09\n",
      "epoch: 89 | loss: 5.604273529020952e-09\n",
      "epoch: 90 | loss: 4.74270517363115e-09\n",
      "epoch: 91 | loss: 4.013890635863209e-09\n",
      "epoch: 92 | loss: 3.397345861845396e-09\n",
      "epoch: 93 | loss: 2.875749974106674e-09\n",
      "epoch: 94 | loss: 2.4344566677620307e-09\n",
      "epoch: 95 | loss: 2.06108106895656e-09\n",
      "epoch: 96 | loss: 1.745150408019105e-09\n",
      "epoch: 97 | loss: 1.4778086542516784e-09\n",
      "epoch: 98 | loss: 1.2515667806135432e-09\n",
      "epoch: 99 | loss: 1.0600916108107937e-09\n"
     ]
    },
    {
     "data": {
      "image/png": "[encoded data removed]",
      "text/plain": [
       "<Figure size 640x480 with 1 Axes>"
      ]
     },
     "metadata": {},
     "output_type": "display_data"
    },
    {
     "name": "stdout",
     "output_type": "stream",
     "text": [
      "[15.99965184 29.99971368]\n"
     ]
    }
   ],
   "source": [
    "# test SGD\n",
    "import importlib\n",
    "import network0\n",
    "import numpy as np\n",
    "import random\n",
    "importlib.reload(network0)\n",
    "#create data\n",
    "random.seed(42)\n",
    "\n",
    "\n",
    "layers = np.array([2,3,2])\n",
    "train_data = create_data(100)\n",
    "validation_data = create_data(100)\n",
    "\n",
    "# print(train_data[:10])\n",
    "# print(validation_data[:10])\n",
    "\n",
    "net = network0.network(layers=layers, seed_value=42)\n",
    "net.SGD(train_data=train_data, eta=0.01, epochs=100, batch_size=10, loss_fn=network0.mean_square_error, dloss_fn=network0.dmean_square_error, seed_value=10, report=True, validation_data=validation_data)\n",
    "\n",
    "\n",
    "print(net.forward(np.array([2,2])))\n"
   ]
  },
  {
   "cell_type": "code",
   "execution_count": 55,
   "metadata": {},
   "outputs": [
    {
     "data": {
      "text/plain": [
       "array([11.94838817, 22.71401993])"
      ]
     },
     "execution_count": 55,
     "metadata": {},
     "output_type": "execute_result"
    }
   ],
   "source": [
    "net.forward(np.array([1,2]), evaluation=True)"
   ]
  },
  {
   "cell_type": "code",
   "execution_count": 37,
   "metadata": {},
   "outputs": [
    {
     "name": "stdout",
     "output_type": "stream",
     "text": [
      "<class 'numpy.ndarray'>\n",
      "[0.37454012 0.37454012]\n",
      "[array([[0.37454012, 0.37454012],\n",
      "       [0.95071431, 0.95071431],\n",
      "       [0.73199394, 0.73199394],\n",
      "       [0.59865848, 0.59865848],\n",
      "       [0.15601864, 0.15601864]]), array([[ 2.99632095,  5.61810178],\n",
      "       [ 7.60571445, 14.2607146 ],\n",
      "       [ 5.85595153, 10.97990913],\n",
      "       [ 4.78926787,  8.97987726],\n",
      "       [ 1.24814912,  2.34027961]])]\n"
     ]
    }
   ],
   "source": [
    "test = create_data(5)\n",
    "print(type(test[0][0]))\n",
    "print(test[0][0])\n",
    "print(test)"
   ]
  },
  {
   "cell_type": "code",
   "execution_count": null,
   "metadata": {},
   "outputs": [],
   "source": []
  }
 ],
 "metadata": {
  "kernelspec": {
   "display_name": "base",
   "language": "python",
   "name": "python3"
  },
  "language_info": {
   "codemirror_mode": {
    "name": "ipython",
    "version": 3
   },
   "file_extension": ".py",
   "mimetype": "text/x-python",
   "name": "python",
   "nbconvert_exporter": "python",
   "pygments_lexer": "ipython3",
   "version": "3.7.13"
  },
  "orig_nbformat": 4
 },
 "nbformat": 4,
 "nbformat_minor": 2
}
