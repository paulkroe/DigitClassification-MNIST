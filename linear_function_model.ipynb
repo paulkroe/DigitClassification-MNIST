{
 "cells": [
  {
   "attachments": {},
   "cell_type": "markdown",
   "metadata": {},
   "source": [
    "consider y(x) = (8 x, 15 x)\n",
    "want to build a simple model with 1 hidden layer, to test if the model works correctly\n",
    "will note work since datahandling has changed"
   ]
  },
  {
   "cell_type": "code",
   "execution_count": 12,
   "metadata": {},
   "outputs": [
    {
     "data": {
      "text/plain": [
       "([array([10.       , -1.2354236]),\n",
       "  array([ 8.7645764, 17.5291528, 26.2937292]),\n",
       "  array([122.7040696, 280.4664448])],\n",
       " [array([10.       , -1.2354236]),\n",
       "  array([ 8.7645764, 17.5291528, 26.2937292]),\n",
       "  array([122.7040696, 280.4664448])])"
      ]
     },
     "execution_count": 12,
     "metadata": {},
     "output_type": "execute_result"
    }
   ],
   "source": [
    "# test forward\n",
    "import debugger as deb\n",
    "import importlib\n",
    "import network0\n",
    "import numpy as np\n",
    "import random\n",
    "importlib.reload(network0)\n",
    "\n",
    "layers = np.array([2,3,2])\n",
    "weights = [np.array([[1,1],[2,2],[3,3]]), np.array([[1,2,3],[4,5,6]])]\n",
    "biases = [np.array([0,0,0]), np.array([0,0])]\n",
    "\n",
    "model_0 = network0.network(layers=layers, weights=weights, biases=biases)\n",
    "\n",
    "model_0.forward(np.array([10,-1.2354236]))\n"
   ]
  },
  {
   "cell_type": "code",
   "execution_count": 7,
   "metadata": {},
   "outputs": [
    {
     "name": "stdout",
     "output_type": "stream",
     "text": [
      "[16. 30.]\n",
      "[16. 30.]\n",
      "<class 'list'>\n"
     ]
    }
   ],
   "source": [
    "# test SGD\n",
    "import importlib\n",
    "import network0\n",
    "import numpy as np\n",
    "import random\n",
    "importlib.reload(network0)\n",
    "#create data\n",
    "random.seed(42)\n",
    "np.random.seed(42)\n",
    "\n",
    "def fill():\n",
    "    x = random.random()\n",
    "    return [np.array((x,x)), np.array((8*x,15*x))]\n",
    "\n",
    "data = [fill() for x in range(0,100)]\n",
    "\n",
    "layers = np.array([2,3,2])\n",
    "net = network0.network(layers=layers, seed_value=42)\n",
    "net.SGD(train_data=data, eta=0.01, epochs=1000, batch_size=10, loss_fn=network0.mean_square_error, dloss_fn=network0.dmean_square_error, seed_value=10)\n",
    "\n",
    "\n",
    "z,a = net.forward(np.array((2,2)))\n",
    "print(z[-1])\n",
    "print(a[-1])\n",
    "print(type(a))\n",
    "\n",
    "# print(net.biases)\n",
    "# print(net.weights)"
   ]
  },
  {
   "cell_type": "code",
   "execution_count": 5,
   "metadata": {},
   "outputs": [
    {
     "name": "stdout",
     "output_type": "stream",
     "text": [
      "[array([0.1, 0.1]), array([1.84951501, 0.84729315, 0.51750065]), array([0.8, 1.5])]\n",
      "[array([1.1, 1.1]), array([13.1609087 ,  5.96500586,  3.80449151]), array([ 8.8, 16.5])]\n",
      "[array([2.1, 2.1]), array([24.47230238, 11.08271858,  7.09148237]), array([16.8, 31.5])]\n",
      "[array([3.1, 3.1]), array([35.78369606, 16.2004313 , 10.37847323]), array([24.8, 46.5])]\n",
      "[array([4.1, 4.1]), array([47.09508975, 21.31814401, 13.66546409]), array([32.8, 61.5])]\n",
      "[array([5.1, 5.1]), array([58.40648343, 26.43585673, 16.95245495]), array([40.8, 76.5])]\n",
      "[array([6.1, 6.1]), array([69.71787711, 31.55356945, 20.23944581]), array([48.8, 91.5])]\n",
      "[array([7.1, 7.1]), array([81.0292708 , 36.67128216, 23.52643667]), array([ 56.8, 106.5])]\n",
      "[array([8.1, 8.1]), array([92.34066448, 41.78899488, 26.81342753]), array([ 64.8, 121.5])]\n",
      "[array([9.1, 9.1]), array([103.65205816,  46.90670759,  30.10041839]), array([ 72.8, 136.5])]\n",
      "<class 'tuple'>\n"
     ]
    }
   ],
   "source": [
    "for i in range(0, 10):\n",
    "    print(net.forward(np.array([i+0.1,i+0.1]))[-1])\n",
    "\n",
    "print(type(net.forward(np.array([1,1]))))"
   ]
  },
  {
   "cell_type": "code",
   "execution_count": 183,
   "metadata": {},
   "outputs": [
    {
     "name": "stdout",
     "output_type": "stream",
     "text": [
      "[6, array([[2.97923465],\n",
      "       [6.43627978]])]\n"
     ]
    }
   ],
   "source": [
    "import network0\n",
    "importlib.reload(network0)\n",
    "\n",
    "layers=np.array([1,2])\n",
    "test = network0.network(layers=layers, seed_value=42)\n",
    "\n",
    "a,b = test.forward(6)\n",
    "print(a)"
   ]
  },
  {
   "cell_type": "code",
   "execution_count": 220,
   "metadata": {},
   "outputs": [
    {
     "data": {
      "text/plain": [
       "array([0.76324059, 0.87809664, 0.41750914, 0.60557756])"
      ]
     },
     "execution_count": 220,
     "metadata": {},
     "output_type": "execute_result"
    }
   ],
   "source": [
    "np.random.rand(4)"
   ]
  }
 ],
 "metadata": {
  "kernelspec": {
   "display_name": "base",
   "language": "python",
   "name": "python3"
  },
  "language_info": {
   "codemirror_mode": {
    "name": "ipython",
    "version": 3
   },
   "file_extension": ".py",
   "mimetype": "text/x-python",
   "name": "python",
   "nbconvert_exporter": "python",
   "pygments_lexer": "ipython3",
   "version": "3.7.13"
  },
  "orig_nbformat": 4
 },
 "nbformat": 4,
 "nbformat_minor": 2
}
