{
 "cells": [
  {
   "cell_type": "code",
   "execution_count": null,
   "metadata": {},
   "outputs": [],
   "source": [
    "import json\n",
    "\n",
    "# Load the JSON file\n",
    "with open(\"model_0.json\", \"r\") as f:\n",
    "    data = json.load(f)\n",
    "\n",
    "# Rename the weight keys\n",
    "num_weight_layers = len(data[\"weights\"])\n",
    "for i in range(num_weight_layers):\n",
    "    key = \"layer_weights\" + str(i + 1)\n",
    "    data[key] = {}\n",
    "    data[key] = data[\"weights\"][i]\n",
    "\n",
    "# Rename the bias keys\n",
    "num_bias_layers = len(data[\"biases\"])\n",
    "for i in range(num_bias_layers):\n",
    "    key = \"layer_biases\" + str(i + 1)\n",
    "    data[key] = data[\"biases\"][i]\n",
    "\n",
    "# Remove the original \"weights\" and \"biases\" keys\n",
    "del data[\"weights\"]\n",
    "del data[\"biases\"]\n",
    "\n",
    "# Write the modified JSON back to the file\n",
    "with open(\"model_0.json\", \"w\") as f:\n",
    "    json.dump(data, f)\n"
   ]
  },
  {
   "cell_type": "code",
   "execution_count": 3,
   "metadata": {},
   "outputs": [],
   "source": [
    "import data_loader\n",
    "import json\n",
    "train_data, validdation_data, test_data = data_loader.load_data()\n",
    "save_train_data = [sub.tolist() for sub in [train_data[0][:100000], train_data[1][:100000]]]\n",
    "\n",
    "data = {\"train\": save_train_data}\n",
    "with open(\"mnist_digits.json\", \"w\") as f:\n",
    "    json.dump(data, f)\n"
   ]
  }
 ],
 "metadata": {
  "kernelspec": {
   "display_name": "env",
   "language": "python",
   "name": "python3"
  },
  "language_info": {
   "codemirror_mode": {
    "name": "ipython",
    "version": 3
   },
   "file_extension": ".py",
   "mimetype": "text/x-python",
   "name": "python",
   "nbconvert_exporter": "python",
   "pygments_lexer": "ipython3",
   "version": "3.7.13"
  },
  "orig_nbformat": 4
 },
 "nbformat": 4,
 "nbformat_minor": 2
}
